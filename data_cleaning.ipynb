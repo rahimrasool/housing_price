{
 "cells": [
  {
   "cell_type": "markdown",
   "metadata": {},
   "source": [
    "This file combines our housing dataset with various neighborhood-level datasets. The neighborhood-level datasets contain information on crime, walkability, unemployment, school quality, etc.\n",
    "\n",
    "This file also cleans the data and codes all categorical variables as binary variables."
   ]
  },
  {
   "cell_type": "code",
   "execution_count": 9,
   "metadata": {},
   "outputs": [],
   "source": [
    "import pandas as pd"
   ]
  },
  {
   "cell_type": "code",
   "execution_count": 10,
   "metadata": {},
   "outputs": [],
   "source": [
    "# Load data\n",
    "housing_data = pd.read_csv('ames_housing_data.csv')\n",
    "income_unemp_data = pd.read_csv('income_unemp_data.csv')\n",
    "walk_bike_score_data = pd.read_csv('walk_bike_score_data.csv')\n",
    "school_quality_data = pd.read_csv('school_quality_data.csv')"
   ]
  },
  {
   "cell_type": "code",
   "execution_count": 11,
   "metadata": {},
   "outputs": [],
   "source": [
    "# Merge datasets\n",
    "data = housing_data.merge(income_unemp_data, how='left', on='Neighborhood')\n",
    "data = data.merge(walk_bike_score_data, how='left', on='Neighborhood')\n",
    "data = data.merge(school_quality_data, how='left', on='Neighborhood')"
   ]
  },
  {
   "cell_type": "code",
   "execution_count": 12,
   "metadata": {},
   "outputs": [],
   "source": [
    "# Drop unecessary variables\n",
    "data.drop(['Id', 'Neighborhood'], axis=1, inplace=True)"
   ]
  },
  {
   "cell_type": "code",
   "execution_count": 13,
   "metadata": {},
   "outputs": [],
   "source": [
    "# Encode categorical variables as binary variables\n",
    "data = pd.get_dummies(data, columns=['MSSubClass'])\n",
    "data.drop(['MSSubClass_20'], axis=1, inplace=True)\n",
    "data = pd.get_dummies(data, columns=['MSZoning'])\n",
    "data.drop(['MSZoning_RL'], axis=1, inplace=True)\n",
    "data = pd.get_dummies(data, columns=['Street'])\n",
    "data.drop(['Street_Pave'], axis=1, inplace=True)\n",
    "data = pd.get_dummies(data, columns=['Alley'])\n",
    "# No need to drop a column, because Alley has an NA category, which will be our base category\n",
    "data = pd.get_dummies(data, columns=['LotShape'])\n",
    "data.drop(['LotShape_Reg'], axis=1, inplace=True)\n",
    "data = pd.get_dummies(data, columns=['LandContour'])\n",
    "data.drop(['LandContour_Lvl'], axis=1, inplace=True)\n",
    "data = pd.get_dummies(data, columns=['Utilities'])\n",
    "data.drop(['Utilities_AllPub'], axis=1, inplace=True)\n",
    "data = pd.get_dummies(data, columns=['LotConfig'])\n",
    "data.drop(['LotConfig_Inside'], axis=1, inplace=True)\n",
    "data = pd.get_dummies(data, columns=['LandSlope'])\n",
    "data.drop(['LandSlope_Gtl'], axis=1, inplace=True)\n",
    "data = pd.get_dummies(data, columns=['Condition1'])\n",
    "data.drop(['Condition1_Norm'], axis=1, inplace=True)\n",
    "data = pd.get_dummies(data, columns=['Condition2'])\n",
    "data.drop(['Condition2_Norm'], axis=1, inplace=True)\n",
    "data = pd.get_dummies(data, columns=['BldgType'])\n",
    "data.drop(['BldgType_1Fam'], axis=1, inplace=True)\n",
    "data = pd.get_dummies(data, columns=['HouseStyle'])\n",
    "data.drop(['HouseStyle_1Story'], axis=1, inplace=True)\n",
    "data = pd.get_dummies(data, columns=['RoofStyle'])\n",
    "data.drop(['RoofStyle_Gable'], axis=1, inplace=True)\n",
    "data = pd.get_dummies(data, columns=['RoofMatl'])\n",
    "data.drop(['RoofMatl_CompShg'], axis=1, inplace=True)\n",
    "data = pd.get_dummies(data, columns=['Exterior1st'])\n",
    "data.drop(['Exterior1st_VinylSd'], axis=1, inplace=True)\n",
    "data = pd.get_dummies(data, columns=['Exterior2nd'])\n",
    "data.drop(['Exterior2nd_VinylSd'], axis=1, inplace=True)\n",
    "data = pd.get_dummies(data, columns=['MasVnrType'])\n",
    "data.drop(['MasVnrType_None'], axis=1, inplace=True)\n",
    "data = pd.get_dummies(data, columns=['ExterQual'])\n",
    "data.drop(['ExterQual_TA'], axis=1, inplace=True)\n",
    "data = pd.get_dummies(data, columns=['ExterCond'])\n",
    "data.drop(['ExterCond_TA'], axis=1, inplace=True)\n",
    "data = pd.get_dummies(data, columns=['Foundation'])\n",
    "data.drop(['Foundation_PConc'], axis=1, inplace=True)\n",
    "data = pd.get_dummies(data, columns=['BsmtQual'])\n",
    "data = pd.get_dummies(data, columns=['BsmtCond'])\n",
    "data = pd.get_dummies(data, columns=['BsmtExposure'])\n",
    "data = pd.get_dummies(data, columns=['BsmtFinType1'])\n",
    "data = pd.get_dummies(data, columns=['BsmtFinType2'])\n",
    "data = pd.get_dummies(data, columns=['Heating'])\n",
    "data.drop(['Heating_GasA'], axis=1, inplace=True)\n",
    "data = pd.get_dummies(data, columns=['HeatingQC'])\n",
    "data.drop(['HeatingQC_TA'], axis=1, inplace=True)\n",
    "data = pd.get_dummies(data, columns=['CentralAir'])\n",
    "data.drop(['CentralAir_N'], axis=1, inplace=True)\n",
    "data = pd.get_dummies(data, columns=['Electrical'])\n",
    "data.drop(['Electrical_SBrkr'], axis=1, inplace=True)\n",
    "data = pd.get_dummies(data, columns=['KitchenQual'])\n",
    "data.drop(['KitchenQual_TA'], axis=1, inplace=True)\n",
    "data = pd.get_dummies(data, columns=['Functional'])\n",
    "data.drop(['Functional_Typ'], axis=1, inplace=True)\n",
    "data = pd.get_dummies(data, columns=['FireplaceQu'])\n",
    "data = pd.get_dummies(data, columns=['GarageType'])\n",
    "data = pd.get_dummies(data, columns=['GarageFinish'])\n",
    "data = pd.get_dummies(data, columns=['GarageQual'])\n",
    "data = pd.get_dummies(data, columns=['GarageCond'])\n",
    "data = pd.get_dummies(data, columns=['PavedDrive'])\n",
    "data = pd.get_dummies(data, columns=['PoolQC'])\n",
    "data = pd.get_dummies(data, columns=['Fence'])\n",
    "data = pd.get_dummies(data, columns=['MiscFeature'])\n",
    "data = pd.get_dummies(data, columns=['MoSold'])\n",
    "data.drop(['MoSold_1'], axis=1, inplace=True)\n",
    "data = pd.get_dummies(data, columns=['YrSold'])\n",
    "data.drop(['YrSold_2006'], axis=1, inplace=True)\n",
    "data = pd.get_dummies(data, columns=['SaleType'])\n",
    "data.drop(['SaleType_WD'], axis=1, inplace=True)\n",
    "data = pd.get_dummies(data, columns=['SaleCondition'])\n",
    "data.drop(['SaleCondition_Normal'], axis=1, inplace=True)"
   ]
  },
  {
   "cell_type": "code",
   "execution_count": 14,
   "metadata": {},
   "outputs": [],
   "source": [
    "# Write cleaned dataset to a CSV file\n",
    "data.to_csv('cleaned_data.csv', index=False)"
   ]
  }
 ],
 "metadata": {
  "kernelspec": {
   "display_name": "Python 3",
   "language": "python",
   "name": "python3"
  },
  "language_info": {
   "codemirror_mode": {
    "name": "ipython",
    "version": 3
   },
   "file_extension": ".py",
   "mimetype": "text/x-python",
   "name": "python",
   "nbconvert_exporter": "python",
   "pygments_lexer": "ipython3",
   "version": "3.8.5"
  }
 },
 "nbformat": 4,
 "nbformat_minor": 4
}
