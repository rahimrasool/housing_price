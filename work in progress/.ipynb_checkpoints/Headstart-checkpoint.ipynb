{
 "cells": [
  {
   "cell_type": "markdown",
   "metadata": {},
   "source": [
    "## Importing Libraries and Data"
   ]
  },
  {
   "cell_type": "code",
   "execution_count": 54,
   "metadata": {},
   "outputs": [],
   "source": [
    "import pandas as pd\n",
    "import numpy as np\n",
    "\n",
    "import warnings\n",
    "warnings.filterwarnings(\"ignore\")\n",
    "\n",
    "pd.set_option('display.max_columns', None)\n",
    "pd.set_option('display.max_rows', None)"
   ]
  },
  {
   "cell_type": "code",
   "execution_count": 2,
   "metadata": {},
   "outputs": [],
   "source": [
    "housing = pd.read_csv(\"housing.csv\")\n",
    "school = pd.read_csv(\"ames_school_quality.csv\")\n",
    "income = pd.read_excel(\"income_unemp_data.xlsx\")\n",
    "walking = pd.read_excel(\"walking score.xlsx\")"
   ]
  },
  {
   "cell_type": "markdown",
   "metadata": {},
   "source": [
    "## Pre-processing"
   ]
  },
  {
   "cell_type": "code",
   "execution_count": 3,
   "metadata": {},
   "outputs": [],
   "source": [
    "# concatenation\n",
    "joined_df = housing.merge(school, how =\"left\", left_on='Neighborhood', right_on='neighborhood')\n",
    "joined_df = joined_df.merge(income, how =\"left\", left_on='Neighborhood', right_on='neighborhood')\n",
    "joined_df = joined_df.merge(walking, how =\"left\", left_on='Neighborhood', right_on='neighborhood')"
   ]
  },
  {
   "cell_type": "code",
   "execution_count": 4,
   "metadata": {
    "scrolled": true
   },
   "outputs": [
    {
     "data": {
      "text/plain": [
       "Id                             0\n",
       "MSSubClass                     0\n",
       "MSZoning                       0\n",
       "LotFrontage                  259\n",
       "LotArea                        0\n",
       "Street                         0\n",
       "Alley                       1369\n",
       "LotShape                       0\n",
       "LandContour                    0\n",
       "Utilities                      0\n",
       "LotConfig                      0\n",
       "LandSlope                      0\n",
       "Neighborhood                   0\n",
       "Condition1                     0\n",
       "Condition2                     0\n",
       "BldgType                       0\n",
       "HouseStyle                     0\n",
       "OverallQual                    0\n",
       "OverallCond                    0\n",
       "YearBuilt                      0\n",
       "YearRemodAdd                   0\n",
       "RoofStyle                      0\n",
       "RoofMatl                       0\n",
       "Exterior1st                    0\n",
       "Exterior2nd                    0\n",
       "MasVnrType                     8\n",
       "MasVnrArea                     8\n",
       "ExterQual                      0\n",
       "ExterCond                      0\n",
       "Foundation                     0\n",
       "BsmtQual                      37\n",
       "BsmtCond                      37\n",
       "BsmtExposure                  38\n",
       "BsmtFinType1                  37\n",
       "BsmtFinSF1                     0\n",
       "BsmtFinType2                  38\n",
       "BsmtFinSF2                     0\n",
       "BsmtUnfSF                      0\n",
       "TotalBsmtSF                    0\n",
       "Heating                        0\n",
       "HeatingQC                      0\n",
       "CentralAir                     0\n",
       "Electrical                     1\n",
       "1stFlrSF                       0\n",
       "2ndFlrSF                       0\n",
       "LowQualFinSF                   0\n",
       "GrLivArea                      0\n",
       "BsmtFullBath                   0\n",
       "BsmtHalfBath                   0\n",
       "FullBath                       0\n",
       "HalfBath                       0\n",
       "BedroomAbvGr                   0\n",
       "KitchenAbvGr                   0\n",
       "KitchenQual                    0\n",
       "TotRmsAbvGrd                   0\n",
       "Functional                     0\n",
       "Fireplaces                     0\n",
       "FireplaceQu                  690\n",
       "GarageType                    81\n",
       "GarageYrBlt                   81\n",
       "GarageFinish                  81\n",
       "GarageCars                     0\n",
       "GarageArea                     0\n",
       "GarageQual                    81\n",
       "GarageCond                    81\n",
       "PavedDrive                     0\n",
       "WoodDeckSF                     0\n",
       "OpenPorchSF                    0\n",
       "EnclosedPorch                  0\n",
       "3SsnPorch                      0\n",
       "ScreenPorch                    0\n",
       "PoolArea                       0\n",
       "PoolQC                      1453\n",
       "Fence                       1179\n",
       "MiscFeature                 1406\n",
       "MiscVal                        0\n",
       "MoSold                         0\n",
       "YrSold                         0\n",
       "SaleType                       0\n",
       "SaleCondition                  0\n",
       "SalePrice                      0\n",
       "neighborhood_x               225\n",
       "Elementary School            225\n",
       "Elementary School Rating     225\n",
       "neighborhood_y               225\n",
       "Unnamed: 1_x                 225\n",
       "med_income                   225\n",
       "unemp_rate                   225\n",
       "neighborhood                 225\n",
       "Unnamed: 1_y                 225\n",
       "Walk Score                   241\n",
       "Bike Score                   316\n",
       "dtype: int64"
      ]
     },
     "execution_count": 4,
     "metadata": {},
     "output_type": "execute_result"
    }
   ],
   "source": [
    "# missing values\n",
    "joined_df.isnull().sum()"
   ]
  },
  {
   "cell_type": "code",
   "execution_count": 5,
   "metadata": {},
   "outputs": [],
   "source": [
    "# removing duplicate columns and columns with high missing values\n",
    "joined_df.drop(columns = ['Alley','FireplaceQu','PoolQC','Fence','MiscFeature',\n",
    "                          'neighborhood_x','neighborhood_y','neighborhood','Unnamed: 1_y']\n",
    "              , inplace = True)"
   ]
  },
  {
   "cell_type": "code",
   "execution_count": 6,
   "metadata": {},
   "outputs": [],
   "source": [
    "joined_df.rename(columns={'Unnamed: 1_x':'NeighborhoodFull'}, inplace=True)"
   ]
  },
  {
   "cell_type": "code",
   "execution_count": 7,
   "metadata": {
    "scrolled": true
   },
   "outputs": [
    {
     "data": {
      "text/plain": [
       "Id                            int64\n",
       "MSSubClass                    int64\n",
       "MSZoning                     object\n",
       "LotFrontage                 float64\n",
       "LotArea                       int64\n",
       "Street                       object\n",
       "LotShape                     object\n",
       "LandContour                  object\n",
       "Utilities                    object\n",
       "LotConfig                    object\n",
       "LandSlope                    object\n",
       "Neighborhood                 object\n",
       "Condition1                   object\n",
       "Condition2                   object\n",
       "BldgType                     object\n",
       "HouseStyle                   object\n",
       "OverallQual                   int64\n",
       "OverallCond                   int64\n",
       "YearBuilt                     int64\n",
       "YearRemodAdd                  int64\n",
       "RoofStyle                    object\n",
       "RoofMatl                     object\n",
       "Exterior1st                  object\n",
       "Exterior2nd                  object\n",
       "MasVnrType                   object\n",
       "MasVnrArea                  float64\n",
       "ExterQual                    object\n",
       "ExterCond                    object\n",
       "Foundation                   object\n",
       "BsmtQual                     object\n",
       "BsmtCond                     object\n",
       "BsmtExposure                 object\n",
       "BsmtFinType1                 object\n",
       "BsmtFinSF1                    int64\n",
       "BsmtFinType2                 object\n",
       "BsmtFinSF2                    int64\n",
       "BsmtUnfSF                     int64\n",
       "TotalBsmtSF                   int64\n",
       "Heating                      object\n",
       "HeatingQC                    object\n",
       "CentralAir                   object\n",
       "Electrical                   object\n",
       "1stFlrSF                      int64\n",
       "2ndFlrSF                      int64\n",
       "LowQualFinSF                  int64\n",
       "GrLivArea                     int64\n",
       "BsmtFullBath                  int64\n",
       "BsmtHalfBath                  int64\n",
       "FullBath                      int64\n",
       "HalfBath                      int64\n",
       "BedroomAbvGr                  int64\n",
       "KitchenAbvGr                  int64\n",
       "KitchenQual                  object\n",
       "TotRmsAbvGrd                  int64\n",
       "Functional                   object\n",
       "Fireplaces                    int64\n",
       "GarageType                   object\n",
       "GarageYrBlt                 float64\n",
       "GarageFinish                 object\n",
       "GarageCars                    int64\n",
       "GarageArea                    int64\n",
       "GarageQual                   object\n",
       "GarageCond                   object\n",
       "PavedDrive                   object\n",
       "WoodDeckSF                    int64\n",
       "OpenPorchSF                   int64\n",
       "EnclosedPorch                 int64\n",
       "3SsnPorch                     int64\n",
       "ScreenPorch                   int64\n",
       "PoolArea                      int64\n",
       "MiscVal                       int64\n",
       "MoSold                        int64\n",
       "YrSold                        int64\n",
       "SaleType                     object\n",
       "SaleCondition                object\n",
       "SalePrice                     int64\n",
       "Elementary School            object\n",
       "Elementary School Rating    float64\n",
       "NeighborhoodFull             object\n",
       "med_income                  float64\n",
       "unemp_rate                  float64\n",
       "Walk Score                  float64\n",
       "Bike Score                  float64\n",
       "dtype: object"
      ]
     },
     "execution_count": 7,
     "metadata": {},
     "output_type": "execute_result"
    }
   ],
   "source": [
    "joined_df.dtypes"
   ]
  },
  {
   "cell_type": "code",
   "execution_count": 8,
   "metadata": {},
   "outputs": [],
   "source": [
    "# Imputing missing values\n",
    "for col in joined_df:\n",
    "    if joined_df[col].dtypes == 'object':\n",
    "        joined_df[col].fillna(joined_df[col].mode()[0], inplace = True)\n",
    "    else:\n",
    "        joined_df[col].fillna(joined_df[col].mean(), inplace = True)"
   ]
  },
  {
   "cell_type": "code",
   "execution_count": 9,
   "metadata": {},
   "outputs": [],
   "source": [
    "# Creating dummies\n",
    "joined_df_dummified = pd.get_dummies(joined_df)"
   ]
  },
  {
   "cell_type": "markdown",
   "metadata": {},
   "source": [
    "# Machine Learning"
   ]
  },
  {
   "cell_type": "code",
   "execution_count": 35,
   "metadata": {},
   "outputs": [],
   "source": [
    "X = joined_df_dummified.drop(columns = ['SalePrice'])\n",
    "y = joined_df_dummified['SalePrice']"
   ]
  },
  {
   "cell_type": "code",
   "execution_count": 11,
   "metadata": {},
   "outputs": [],
   "source": [
    "#Function to calculate a vector of mean and standard deviation values for each paramter\n",
    "\n",
    "def vector_values(grid_search, trials):\n",
    "    mean_vec = np.zeros(trials)\n",
    "    std_vec = np.zeros(trials)\n",
    "    i = 0\n",
    "    final = grid_search.cv_results_\n",
    "    \n",
    "    #Using Grid Search's 'cv_results' attribute to get mean and std for each paramter\n",
    "    for mean_score, std_score in zip(final[\"mean_test_score\"], final[\"std_test_score\"]):\n",
    "        mean_vec[i] = -mean_score\n",
    "        # negative sign used with mean.score() to get positive mean squared error\n",
    "        std_vec[i] = std_score\n",
    "        i = i+1\n",
    "\n",
    "    return mean_vec, std_vec"
   ]
  },
  {
   "cell_type": "markdown",
   "metadata": {},
   "source": [
    "### Ridge"
   ]
  },
  {
   "cell_type": "code",
   "execution_count": 17,
   "metadata": {},
   "outputs": [],
   "source": [
    "from sklearn.linear_model import Ridge\n",
    "ridge = Ridge(normalize = True)\n",
    "\n",
    "#Defining set of regularization parameters - alpha \n",
    "#np.linspace(start=-3, stop=5, num=100) will create an array of 100 evenly spaced numbers from -3 to 5\n",
    "\n",
    "# Taking 10 to the power of the set of numbers from -3 to 5 (with 100 intervals)\n",
    "alpha_param = (10**np.linspace(start=-2, stop=2, num=100))\n",
    "#alpha_param = np.linspace(start=0.01, stop=100, num=100)"
   ]
  },
  {
   "cell_type": "code",
   "execution_count": 18,
   "metadata": {},
   "outputs": [
    {
     "data": {
      "text/plain": [
       "GridSearchCV(cv=10, error_score=nan,\n",
       "             estimator=Ridge(alpha=1.0, copy_X=True, fit_intercept=True,\n",
       "                             max_iter=None, normalize=True, random_state=None,\n",
       "                             solver='auto', tol=0.001),\n",
       "             iid='deprecated', n_jobs=None,\n",
       "             param_grid=[{'alpha': array([1.00000000e-02, 1.09749877e-02, 1.20450354e-02, 1.32194115e-02,\n",
       "       1.45082878e-02, 1.59228279e-02, 1.74752840e-02, 1.91791026e-02,\n",
       "       2.1049041...\n",
       "       1.70735265e+01, 1.87381742e+01, 2.05651231e+01, 2.25701972e+01,\n",
       "       2.47707636e+01, 2.71858824e+01, 2.98364724e+01, 3.27454916e+01,\n",
       "       3.59381366e+01, 3.94420606e+01, 4.32876128e+01, 4.75081016e+01,\n",
       "       5.21400829e+01, 5.72236766e+01, 6.28029144e+01, 6.89261210e+01,\n",
       "       7.56463328e+01, 8.30217568e+01, 9.11162756e+01, 1.00000000e+02])}],\n",
       "             pre_dispatch='2*n_jobs', refit=True, return_train_score=False,\n",
       "             scoring='neg_mean_squared_error', verbose=0)"
      ]
     },
     "execution_count": 18,
     "metadata": {},
     "output_type": "execute_result"
    }
   ],
   "source": [
    "#Creating a parameters grid\n",
    "param_grid = [{'alpha': alpha_param }]\n",
    "\n",
    "#Running Grid Search over the alpha (regularization) parameter\n",
    "grid_search_ridge = GridSearchCV(ridge, param_grid, cv = 10, scoring = 'neg_mean_squared_error')\n",
    "grid_search_ridge.fit(X, y)"
   ]
  },
  {
   "cell_type": "code",
   "execution_count": 20,
   "metadata": {},
   "outputs": [
    {
     "data": {
      "image/png": "[encoded data removed]",
      "text/plain": [
       "<Figure size 864x720 with 1 Axes>"
      ]
     },
     "metadata": {
      "needs_background": "light"
     },
     "output_type": "display_data"
    }
   ],
   "source": [
    "from matplotlib import pyplot as plt\n",
    "\n",
    "#Calling the vector_values function created to calculate mean and std vectors\n",
    "mean_vec, std_vec = vector_values(grid_search_ridge, 100)\n",
    "\n",
    "plt.figure(figsize=(12,10))\n",
    "plt.title('Ridge Regression', fontsize= 20)\n",
    "plt.plot(np.log(alpha_param), mean_vec)\n",
    "#plt.plot(alpha_param, mean_vec)\n",
    "plt.errorbar(np.log(alpha_param), mean_vec, yerr = std_vec)\n",
    "#plt.errorbar(alpha_param, mean_vec, yerr = std_vec)\n",
    "plt.ylabel(\"MSE\", fontsize= 20)\n",
    "#plt.ylim(-10, 60)\n",
    "plt.xlabel(\"log(Alpha)\", fontsize= 20)\n",
    "plt.show()"
   ]
  },
  {
   "cell_type": "code",
   "execution_count": null,
   "metadata": {},
   "outputs": [],
   "source": []
  },
  {
   "cell_type": "markdown",
   "metadata": {},
   "source": [
    "### Random Forest"
   ]
  },
  {
   "cell_type": "code",
   "execution_count": 16,
   "metadata": {},
   "outputs": [
    {
     "data": {
      "text/plain": [
       "GridSearchCV(cv=None, error_score=nan,\n",
       "             estimator=RandomForestRegressor(bootstrap=True, ccp_alpha=0.0,\n",
       "                                             criterion='mse', max_depth=None,\n",
       "                                             max_features='auto',\n",
       "                                             max_leaf_nodes=None,\n",
       "                                             max_samples=None,\n",
       "                                             min_impurity_decrease=0.0,\n",
       "                                             min_impurity_split=None,\n",
       "                                             min_samples_leaf=1,\n",
       "                                             min_samples_split=2,\n",
       "                                             min_weight_fraction_leaf=0.0,\n",
       "                                             n_estimators=100, n_jobs=None,\n",
       "                                             oob_score=False, random_state=None,\n",
       "                                             verbose=0, warm_start=False),\n",
       "             iid='deprecated', n_jobs=None, param_grid={'max_depth': [2, 3, 5]},\n",
       "             pre_dispatch='2*n_jobs', refit=True, return_train_score=False,\n",
       "             scoring=None, verbose=0)"
      ]
     },
     "execution_count": 16,
     "metadata": {},
     "output_type": "execute_result"
    }
   ],
   "source": [
    "# GridSearchCV with Random Forest\n",
    "from sklearn.ensemble import RandomForestRegressor\n",
    "from sklearn.model_selection import GridSearchCV\n",
    "\n",
    "regr = RandomForestRegressor()\n",
    "parameters = {'max_depth':[2, 3, 5]}\n",
    "\n",
    "model = GridSearchCV(regr, parameters)\n",
    "model.fit(X, y)"
   ]
  },
  {
   "cell_type": "markdown",
   "metadata": {},
   "source": [
    "### Model Evaluation"
   ]
  },
  {
   "cell_type": "code",
   "execution_count": 21,
   "metadata": {},
   "outputs": [
    {
     "name": "stdout",
     "output_type": "stream",
     "text": [
      "[0.66559321 0.75289707 0.83036298]\n",
      "[0.00870897 0.01519599 0.0154677 ]\n"
     ]
    }
   ],
   "source": [
    "print(model.cv_results_['mean_test_score'])\n",
    "print(model.cv_results_['std_test_score'])"
   ]
  },
  {
   "cell_type": "code",
   "execution_count": 22,
   "metadata": {},
   "outputs": [
    {
     "data": {
      "text/plain": [
       "RandomForestRegressor(bootstrap=True, ccp_alpha=0.0, criterion='mse',\n",
       "                      max_depth=5, max_features='auto', max_leaf_nodes=None,\n",
       "                      max_samples=None, min_impurity_decrease=0.0,\n",
       "                      min_impurity_split=None, min_samples_leaf=1,\n",
       "                      min_samples_split=2, min_weight_fraction_leaf=0.0,\n",
       "                      n_estimators=100, n_jobs=None, oob_score=False,\n",
       "                      random_state=None, verbose=0, warm_start=False)"
      ]
     },
     "execution_count": 22,
     "metadata": {},
     "output_type": "execute_result"
    }
   ],
   "source": [
    "regr_dep5 = RandomForestRegressor(max_depth = 5)\n",
    "regr_dep5.fit(X, y)"
   ]
  },
  {
   "cell_type": "markdown",
   "metadata": {},
   "source": [
    "### Feature Importance"
   ]
  },
  {
   "cell_type": "code",
   "execution_count": 23,
   "metadata": {},
   "outputs": [
    {
     "data": {
      "image/png": "[encoded data removed]",
      "text/plain": [
       "<Figure size 720x360 with 1 Axes>"
      ]
     },
     "metadata": {
      "needs_background": "light"
     },
     "output_type": "display_data"
    }
   ],
   "source": [
    "import matplotlib.pyplot as plt\n",
    "forest_importances = pd.Series(regr_dep5.feature_importances_, index=X.columns)\n",
    "forest_importances.sort_values(ascending=False, inplace=True)\n",
    "\n",
    "fig, ax = plt.subplots(figsize=(10,5))\n",
    "forest_importances[:10].plot.bar(ax=ax)\n",
    "ax.set_title(\"Feature importances using MDI\")\n",
    "ax.set_ylabel(\"Mean decrease in impurity\")\n",
    "fig.tight_layout()"
   ]
  },
  {
   "cell_type": "markdown",
   "metadata": {},
   "source": [
    "# High Dimension Visualization\n",
    "\n",
    "### PCA"
   ]
  },
  {
   "cell_type": "code",
   "execution_count": 15,
   "metadata": {},
   "outputs": [],
   "source": [
    "from sklearn.decomposition import PCA\n",
    "import matplotlib.pyplot as plt\n",
    "\n",
    "reduced_data = PCA(n_components=2).fit_transform(X)"
   ]
  },
  {
   "cell_type": "code",
   "execution_count": 26,
   "metadata": {},
   "outputs": [
    {
     "data": {
      "text/plain": [
       "<matplotlib.axes._subplots.AxesSubplot at 0x164f1343648>"
      ]
     },
     "execution_count": 26,
     "metadata": {},
     "output_type": "execute_result"
    },
    {
     "data": {
      "image/png": "[encoded data removed]",
      "text/plain": [
       "<Figure size 432x288 with 1 Axes>"
      ]
     },
     "metadata": {
      "needs_background": "light"
     },
     "output_type": "display_data"
    }
   ],
   "source": [
    "import seaborn as sns\n",
    "sns.scatterplot(x = reduced_data[:, 1], y = reduced_data[:, 0])"
   ]
  },
  {
   "cell_type": "code",
   "execution_count": null,
   "metadata": {},
   "outputs": [],
   "source": []
  },
  {
   "cell_type": "markdown",
   "metadata": {},
   "source": [
    "# Advanced algorithms\n",
    "## XGBoost"
   ]
  },
  {
   "cell_type": "code",
   "execution_count": 32,
   "metadata": {},
   "outputs": [
    {
     "name": "stdout",
     "output_type": "stream",
     "text": [
      "Wall time: 0 ns\n"
     ]
    }
   ],
   "source": [
    "%%time\n",
    "from xgboost import XGBRegressor\n",
    "model = XGBRegressor(booster='gbtree', \n",
    "                     colsample_bylevel=1.0, \n",
    "                     colsample_bytree=1.0, \n",
    "                     gamma=0.0, \n",
    "                     learning_rate=0.1, \n",
    "                     max_delta_step=0.0, \n",
    "                     max_depth=3, \n",
    "                     min_child_weights=1.0, \n",
    "                     n_estimators=100, \n",
    "                     normalize_type='tree', \n",
    "                     num_parallel_tree=1, \n",
    "                     n_jobs=1, \n",
    "                     objective='reg:squarederror', \n",
    "                     one_drop=False, \n",
    "                     rate_drop=0.0, \n",
    "                     reg_alpha=0.0, \n",
    "                     reg_lambda=1.0, \n",
    "                     silent=True, \n",
    "                     sample_type='uniform', \n",
    "                     skip_drop=0.0, \n",
    "                     subsample=1.0)"
   ]
  },
  {
   "cell_type": "code",
   "execution_count": 40,
   "metadata": {},
   "outputs": [
    {
     "name": "stdout",
     "output_type": "stream",
     "text": [
      "[18:25:32] WARNING: C:/Users/Administrator/workspace/xgboost-win64_release_1.4.0/src/learner.cc:573: \n",
      "Parameters: { \"min_child_weights\", \"normalize_type\", \"one_drop\", \"rate_drop\", \"sample_type\", \"silent\", \"skip_drop\" } might not be used.\n",
      "\n",
      "  This may not be accurate due to some parameters are only used in language bindings but\n",
      "  passed down to XGBoost core.  Or some parameters are not used but slip through this\n",
      "  verification. Please open an issue if you find above cases.\n",
      "\n",
      "\n"
     ]
    },
    {
     "data": {
      "text/plain": [
       "XGBRegressor(base_score=0.5, booster='gbtree', colsample_bylevel=1.0,\n",
       "             colsample_bynode=1, colsample_bytree=1.0, gamma=0.0, gpu_id=-1,\n",
       "             importance_type='gain', interaction_constraints='',\n",
       "             learning_rate=0.1, max_delta_step=0.0, max_depth=3,\n",
       "             min_child_weight=1, min_child_weights=1.0, missing=nan,\n",
       "             monotone_constraints='()', n_estimators=100, n_jobs=1,\n",
       "             normalize_type='tree', num_parallel_tree=1,\n",
       "             objective='reg:squarederror', one_drop=False, random_state=0,\n",
       "             rate_drop=0.0, reg_alpha=0.0, reg_lambda=1.0,\n",
       "             sample_type='uniform', scale_pos_weight=1, silent=True,\n",
       "             skip_drop=0.0, ...)"
      ]
     },
     "execution_count": 40,
     "metadata": {},
     "output_type": "execute_result"
    }
   ],
   "source": [
    "from sklearn.model_selection import train_test_split\n",
    "X_train, X_test, y_train, y_test = train_test_split(X, y, test_size=0.25, random_state=40)\n",
    "model.fit(X_train, y_train)"
   ]
  },
  {
   "cell_type": "code",
   "execution_count": 41,
   "metadata": {},
   "outputs": [],
   "source": [
    "y_pred = model.predict(X_test)"
   ]
  },
  {
   "cell_type": "code",
   "execution_count": 42,
   "metadata": {},
   "outputs": [
    {
     "name": "stdout",
     "output_type": "stream",
     "text": [
      "MSE : 608445256.2953798\n",
      "MAE : 14670.249860873288\n",
      "R2 : 0.8775678240659575\n"
     ]
    }
   ],
   "source": [
    "from sklearn.metrics import mean_squared_error\n",
    "from sklearn.metrics import r2_score\n",
    "from sklearn.metrics import mean_absolute_error\n",
    "\n",
    "print(\"MSE :\", mean_squared_error(y_test, y_pred))\n",
    "print(\"MAE :\", mean_absolute_error(y_test, y_pred))\n",
    "print(\"R2 :\", r2_score(y_test, y_pred))"
   ]
  },
  {
   "cell_type": "markdown",
   "metadata": {},
   "source": [
    "## Stacking "
   ]
  },
  {
   "cell_type": "code",
   "execution_count": 45,
   "metadata": {},
   "outputs": [],
   "source": [
    "from sklearn.ensemble import StackingRegressor\n",
    "from sklearn.linear_model import RidgeCV\n",
    "from sklearn.svm import LinearSVR\n",
    "from sklearn.ensemble import RandomForestRegressor"
   ]
  },
  {
   "cell_type": "code",
   "execution_count": 50,
   "metadata": {},
   "outputs": [],
   "source": [
    "estimators = [\n",
    "    ('lr', RidgeCV()),\n",
    "    ('svr', LinearSVR(random_state=0))\n",
    "]\n",
    "reg = StackingRegressor(\n",
    "    estimators=estimators,\n",
    "    final_estimator=RandomForestRegressor(n_estimators=10,\n",
    "                                          random_state=0)\n",
    ")"
   ]
  },
  {
   "cell_type": "code",
   "execution_count": 55,
   "metadata": {},
   "outputs": [],
   "source": [
    "reg.fit(X_train, y_train)\n",
    "y_pred = reg.predict(X_test)"
   ]
  },
  {
   "cell_type": "code",
   "execution_count": 56,
   "metadata": {},
   "outputs": [
    {
     "name": "stdout",
     "output_type": "stream",
     "text": [
      "MSE : 819340441.3412601\n",
      "MAE : 18985.622465753422\n",
      "R2 : 0.8351312102013162\n"
     ]
    }
   ],
   "source": [
    "print(\"MSE :\", mean_squared_error(y_test, y_pred))\n",
    "print(\"MAE :\", mean_absolute_error(y_test, y_pred))\n",
    "print(\"R2 :\", r2_score(y_test, y_pred))"
   ]
  },
  {
   "cell_type": "code",
   "execution_count": null,
   "metadata": {},
   "outputs": [],
   "source": []
  },
  {
   "cell_type": "markdown",
   "metadata": {},
   "source": [
    "## LightGBM"
   ]
  },
  {
   "cell_type": "code",
   "execution_count": 58,
   "metadata": {},
   "outputs": [],
   "source": [
    "import lightgbm as lgb"
   ]
  },
  {
   "cell_type": "code",
   "execution_count": 63,
   "metadata": {},
   "outputs": [],
   "source": [
    "train_data = lgb.Dataset(X_train, label=y_train)"
   ]
  },
  {
   "cell_type": "code",
   "execution_count": 64,
   "metadata": {},
   "outputs": [],
   "source": [
    "validation_data = train_data.create_valid(X_test)"
   ]
  },
  {
   "cell_type": "code",
   "execution_count": 65,
   "metadata": {},
   "outputs": [],
   "source": [
    "param = {'num_leaves': 31, 'objective': 'regression'}\n",
    "param['metric'] = 'mean_squared_error'"
   ]
  },
  {
   "cell_type": "code",
   "execution_count": 66,
   "metadata": {},
   "outputs": [
    {
     "name": "stdout",
     "output_type": "stream",
     "text": [
      "[LightGBM] [Warning] Find whitespaces in feature_names, replace with underlines\n",
      "[LightGBM] [Warning] Auto-choosing row-wise multi-threading, the overhead of testing was 0.000904 seconds.\n",
      "You can set `force_row_wise=true` to remove the overhead.\n",
      "And if memory is not enough, you can set `force_col_wise=true`.\n",
      "[LightGBM] [Info] Total Bins 3498\n",
      "[LightGBM] [Info] Number of data points in the train set: 1095, number of used features: 201\n",
      "[LightGBM] [Warning] Find whitespaces in feature_names, replace with underlines\n",
      "[LightGBM] [Info] Start training from score 181732.260274\n",
      "[1]\tvalid_0's l2: 3.30595e+10\n",
      "[2]\tvalid_0's l2: 3.313e+10\n",
      "[3]\tvalid_0's l2: 3.32524e+10\n",
      "[4]\tvalid_0's l2: 3.34169e+10\n",
      "[5]\tvalid_0's l2: 3.36061e+10\n",
      "[6]\tvalid_0's l2: 3.37968e+10\n",
      "[7]\tvalid_0's l2: 3.4013e+10\n",
      "[8]\tvalid_0's l2: 3.41602e+10\n",
      "[9]\tvalid_0's l2: 3.43874e+10\n",
      "[10]\tvalid_0's l2: 3.45529e+10\n"
     ]
    }
   ],
   "source": [
    "num_round = 10\n",
    "bst = lgb.train(param, train_data, num_round, valid_sets=[validation_data])"
   ]
  },
  {
   "cell_type": "code",
   "execution_count": null,
   "metadata": {},
   "outputs": [],
   "source": []
  }
 ],
 "metadata": {
  "kernelspec": {
   "display_name": "Python 3",
   "language": "python",
   "name": "python3"
  },
  "language_info": {
   "codemirror_mode": {
    "name": "ipython",
    "version": 3
   },
   "file_extension": ".py",
   "mimetype": "text/x-python",
   "name": "python",
   "nbconvert_exporter": "python",
   "pygments_lexer": "ipython3",
   "version": "3.7.6"
  }
 },
 "nbformat": 4,
 "nbformat_minor": 4
}
