{
 "cells": [
  {
   "cell_type": "code",
   "execution_count": 1,
   "metadata": {},
   "outputs": [],
   "source": [
    "import pandas as pd\n",
    "import numpy as np\n",
    "from matplotlib import pyplot as plt\n",
    "from sklearn.model_selection import GridSearchCV\n",
    "\n",
    "import warnings\n",
    "warnings.filterwarnings(\"ignore\")\n",
    "\n",
    "pd.set_option('display.max_columns', None)\n",
    "pd.set_option('display.max_rows', None)"
   ]
  },
  {
   "cell_type": "code",
   "execution_count": 2,
   "metadata": {},
   "outputs": [],
   "source": [
    "train = pd.read_csv(\"../data/data_train.csv\")\n",
    "test = pd.read_csv(\"../data/data_test.csv\")"
   ]
  },
  {
   "cell_type": "code",
   "execution_count": 3,
   "metadata": {},
   "outputs": [],
   "source": [
    "X = train.drop(columns = ['SalePrice'])\n",
    "y = train['SalePrice']"
   ]
  },
  {
   "cell_type": "markdown",
   "metadata": {},
   "source": [
    "### Helper function - Compute summary vectors"
   ]
  },
  {
   "cell_type": "code",
   "execution_count": 4,
   "metadata": {},
   "outputs": [],
   "source": [
    "#Function to calculate a vector of mean and standard deviation values for each paramter\n",
    "\n",
    "def compute_vectors(grid_search, trials):\n",
    "    '''\n",
    "    Takes a grid_search object and the number of trials as input\n",
    "    '''\n",
    "    mean_vec = np.zeros(trials)\n",
    "    std_vec = np.zeros(trials)\n",
    "    i = 0\n",
    "    \n",
    "    #Using Grid Search's 'cv_results' attribute to get mean and std for each paramter\n",
    "    for mean_score, std_score in zip(grid_search.cv_results_[\"mean_test_score\"], grid_search.cv_results_[\"std_test_score\"]):\n",
    "        mean_vec[i] = -mean_score\n",
    "        # negative sign used with mean.score() to get positive mean squared error\n",
    "        std_vec[i] = std_score\n",
    "        i = i+1\n",
    "\n",
    "    return mean_vec, std_vec"
   ]
  },
  {
   "cell_type": "markdown",
   "metadata": {},
   "source": [
    "# SVR"
   ]
  },
  {
   "cell_type": "code",
   "execution_count": null,
   "metadata": {
    "scrolled": true
   },
   "outputs": [
    {
     "name": "stdout",
     "output_type": "stream",
     "text": [
      "Wall time: 0 ns\n"
     ]
    }
   ],
   "source": [
    "%time\n",
    "from sklearn.svm import SVR\n",
    "svr = SVR()\n",
    "param_grid = {'C': [0.001, 0.01, 0.1, 1, 10],\n",
    "              'kernel': ['linear', 'poly', 'rbf', 'sigmoid'],\n",
    "              'epsilon': [0.01, 0.1, 1]}\n",
    "\n",
    "svr_model = GridSearchCV(svr, param_grid, cv = 10, scoring = 'neg_mean_absolute_error')\n",
    "svr_model.fit(X, y)"
   ]
  },
  {
   "cell_type": "code",
   "execution_count": null,
   "metadata": {},
   "outputs": [],
   "source": [
    "iterations = 60\n",
    "#Calling the vector_values function created to calculate mean and std vectors\n",
    "mean_vec, std_vec = compute_vectors(svr_model, iterations)\n",
    "\n",
    "plt.figure(figsize=(12,10))\n",
    "plt.title('Support Vector Regressor', fontsize= 20)\n",
    "plt.plot((np.arange(iterations)+1), mean_vec)\n",
    "plt.errorbar((np.arange(iterations)+1), mean_vec, yerr = std_vec)\n",
    "plt.ylabel(\"MAE\", fontsize= 20)\n",
    "plt.xlabel(\"Parameter Set\", fontsize= 20)\n",
    "#plt.ylim(14000, 40000)\n",
    "plt.show()"
   ]
  },
  {
   "cell_type": "code",
   "execution_count": null,
   "metadata": {},
   "outputs": [],
   "source": []
  },
  {
   "cell_type": "markdown",
   "metadata": {},
   "source": [
    "# Random Forest"
   ]
  },
  {
   "cell_type": "code",
   "execution_count": null,
   "metadata": {},
   "outputs": [],
   "source": [
    "from sklearn.ensemble import RandomForestRegressor\n",
    "\n",
    "rf = RandomForestRegressor(n_jobs=-1, random_state=0, criterion = 'mae')\n",
    "\n",
    "param_grid = {'ccp_alpha': [0.001, 0.01, 0.1, 1, 10],\n",
    "             'n_estimators':[10, 100, 500],\n",
    "             'max_features': ('auto', 'sqrt', 'log2')\n",
    "             }\n",
    "\n",
    "rf_model = GridSearchCV(rf, param_grid, cv = 10, scoring = 'neg_mean_absolute_error')\n",
    "rf_model.fit(X, y)"
   ]
  },
  {
   "cell_type": "code",
   "execution_count": null,
   "metadata": {},
   "outputs": [],
   "source": [
    "iterations = 45\n",
    "#Calling the vector_values function created to calculate mean and std vectors\n",
    "mean_vec, std_vec = compute_vectors(svr_model, iterations)\n",
    "\n",
    "plt.figure(figsize=(12,10))\n",
    "plt.title('Random Forest Regressor', fontsize= 20)\n",
    "plt.plot((np.arange(iterations)+1), mean_vec)\n",
    "plt.errorbar((np.arange(iterations)+1), mean_vec, yerr = std_vec)\n",
    "plt.ylabel(\"MAE\", fontsize= 20)\n",
    "plt.xlabel(\"Parameter Set\", fontsize= 20)\n",
    "#plt.ylim(14000, 40000)\n",
    "plt.show()"
   ]
  },
  {
   "cell_type": "code",
   "execution_count": null,
   "metadata": {},
   "outputs": [],
   "source": [
    "# print values"
   ]
  },
  {
   "cell_type": "markdown",
   "metadata": {},
   "source": [
    "# XGBoost"
   ]
  },
  {
   "cell_type": "code",
   "execution_count": null,
   "metadata": {},
   "outputs": [],
   "source": [
    "from xgboost import XGBRegressor\n",
    "xgb = XGBRegressor(n_jobs=-1, objective='reg:squarederror', n_estimators = 100)"
   ]
  },
  {
   "cell_type": "code",
   "execution_count": null,
   "metadata": {},
   "outputs": [],
   "source": [
    "param_grid = {'max_depth': [2,4,6],\n",
    "              'booster': ('gbtree', 'gblinear', 'dart'),\n",
    "              'gamma': [0.01, 0.1, 1]\n",
    "             }\n",
    "\n",
    "xgb_model = GridSearchCV(xgb, param_grid, cv = 5, scoring = 'neg_mean_absolute_error', verbose = 4)\n",
    "xgb_model.fit(X, y)"
   ]
  },
  {
   "cell_type": "code",
   "execution_count": null,
   "metadata": {},
   "outputs": [],
   "source": [
    "iterations = 27\n",
    "#Calling the vector_values function created to calculate mean and std vectors\n",
    "mean_vec, std_vec = compute_vectors(xgb_model, iterations)\n",
    "\n",
    "plt.figure(figsize=(12,10))\n",
    "plt.title('XGBoost Regressor', fontsize= 20)\n",
    "plt.plot((np.arange(iterations)+1), mean_vec)\n",
    "plt.errorbar((np.arange(iterations)+1), mean_vec, yerr = std_vec)\n",
    "plt.ylabel(\"MAE\", fontsize= 20)\n",
    "plt.xlabel(\"Parameter Set\", fontsize= 20)\n",
    "#plt.ylim(14000, 40000)\n",
    "plt.show()"
   ]
  },
  {
   "cell_type": "code",
   "execution_count": null,
   "metadata": {},
   "outputs": [],
   "source": [
    "#print vals"
   ]
  },
  {
   "cell_type": "markdown",
   "metadata": {},
   "source": [
    "# LightGBM"
   ]
  },
  {
   "cell_type": "code",
   "execution_count": null,
   "metadata": {},
   "outputs": [],
   "source": [
    "import lightgbm\n",
    "lgb = lightgbm.LGBMRegressor()"
   ]
  },
  {
   "cell_type": "code",
   "execution_count": null,
   "metadata": {},
   "outputs": [],
   "source": [
    "param_grid = {'num_leaves': [5,15,31],\n",
    "              'boosting_type': ('gbdt', 'dart', 'gross'),\n",
    "              'reg_alpha': [0.01, 0.1, 1]\n",
    "             }\n",
    "\n",
    "lgb_model = GridSearchCV(lgb, param_grid, cv = 5, scoring = 'neg_mean_absolute_error', verbose = 4)\n",
    "lgb_model.fit(X, y)"
   ]
  },
  {
   "cell_type": "code",
   "execution_count": null,
   "metadata": {},
   "outputs": [],
   "source": [
    "iterations = 27\n",
    "#Calling the vector_values function created to calculate mean and std vectors\n",
    "mean_vec, std_vec = compute_vectors(lgb_model, iterations)\n",
    "\n",
    "plt.figure(figsize=(12,10))\n",
    "plt.title('XGBoost Regressor', fontsize= 20)\n",
    "plt.plot((np.arange(iterations)+1), mean_vec)\n",
    "plt.errorbar((np.arange(iterations)+1), mean_vec, yerr = std_vec)\n",
    "plt.ylabel(\"MAE\", fontsize= 20)\n",
    "plt.xlabel(\"Parameter Set\", fontsize= 20)\n",
    "#plt.ylim(14000, 40000)\n",
    "plt.show()"
   ]
  },
  {
   "cell_type": "markdown",
   "metadata": {},
   "source": [
    "# Stacking\n",
    "\n",
    "![Stacking](stacking.png)"
   ]
  },
  {
   "cell_type": "code",
   "execution_count": null,
   "metadata": {},
   "outputs": [],
   "source": [
    "from sklearn.ensemble import StackingRegressor\n",
    "\n",
    "estimators = [\n",
    "    ('ridge', Ridge(normalize=True)),\n",
    "    ('xgb', XGBRegressor(**xgb_model.best_params_)),\n",
    "    ('svr', SVR(**svr_model.best_params_))\n",
    "    ('lgb', lightgbm.LGBMRegressor(**lgb_model.best_params_))]\n",
    "\n",
    "reg = StackingRegressor(\n",
    "    estimators=estimators,\n",
    "    final_estimator=RandomForestRegressor()\n",
    ")"
   ]
  },
  {
   "cell_type": "code",
   "execution_count": null,
   "metadata": {},
   "outputs": [],
   "source": [
    "reg.fit(X, y)"
   ]
  },
  {
   "cell_type": "markdown",
   "metadata": {},
   "source": [
    "# Model Evaluation"
   ]
  },
  {
   "cell_type": "code",
   "execution_count": null,
   "metadata": {},
   "outputs": [],
   "source": [
    "from sklearn.model_selection import cross_validate\n",
    "scores = cross_validate(reg, X1, y, cv=5,\n",
    "                        scoring=('r2', 'neg_mean_absolute_error'),\n",
    "                        return_train_score=False)"
   ]
  },
  {
   "cell_type": "code",
   "execution_count": null,
   "metadata": {},
   "outputs": [],
   "source": [
    "scores['test_neg_mean_absolute_error']"
   ]
  },
  {
   "cell_type": "code",
   "execution_count": null,
   "metadata": {},
   "outputs": [],
   "source": [
    "scores['test_neg_mean_absolute_error'].mean()"
   ]
  },
  {
   "cell_type": "code",
   "execution_count": null,
   "metadata": {},
   "outputs": [],
   "source": [
    "variance = sum([((x - scores['test_neg_mean_absolute_error'].mean()) ** 2) for x in scores['test_neg_mean_absolute_error']]) / len(scores)\n",
    "variance ** 0.5"
   ]
  }
 ],
 "metadata": {
  "kernelspec": {
   "display_name": "Python 3",
   "language": "python",
   "name": "python3"
  },
  "language_info": {
   "codemirror_mode": {
    "name": "ipython",
    "version": 3
   },
   "file_extension": ".py",
   "mimetype": "text/x-python",
   "name": "python",
   "nbconvert_exporter": "python",
   "pygments_lexer": "ipython3",
   "version": "3.9.2"
  }
 },
 "nbformat": 4,
 "nbformat_minor": 4
}
