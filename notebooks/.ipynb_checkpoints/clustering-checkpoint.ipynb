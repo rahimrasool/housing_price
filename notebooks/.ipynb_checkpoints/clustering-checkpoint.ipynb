{
 "cells": [
  {
   "cell_type": "markdown",
   "id": "879ab651",
   "metadata": {},
   "source": [
    "This file performs k-means and agglomerative clustering."
   ]
  },
  {
   "cell_type": "code",
   "execution_count": 15,
   "id": "edc942b6",
   "metadata": {},
   "outputs": [],
   "source": [
    "import pandas as pd\n",
    "import numpy as np\n",
    "import matplotlib.pyplot as plt\n",
    "import matplotlib.cm as cm\n",
    "from sklearn.cluster import KMeans, AgglomerativeClustering"
   ]
  },
  {
   "cell_type": "code",
   "execution_count": 12,
   "id": "ecc3f51d",
   "metadata": {},
   "outputs": [],
   "source": [
    "# Import training and test sets\n",
    "data_train = pd.read_csv('../data/data_train.csv')\n",
    "data_test = pd.read_csv('../data/data_test.csv')\n",
    "\n",
    "# Select variables\n",
    "target_train = data_train['SalePrice']\n",
    "features_train = data_train.drop(['SalePrice'], axis=1)\n",
    "\n",
    "target_test = data_test['SalePrice']\n",
    "features_test = data_test.drop(['SalePrice'], axis=1)\n",
    "\n",
    "# do we even need to split into training and test sets?\n",
    "# should we try different values for k and different affinity types?"
   ]
  },
  {
   "cell_type": "code",
   "execution_count": null,
   "id": "c668c5da",
   "metadata": {},
   "outputs": [],
   "source": [
    "# K-means clustering model\n",
    "labels = features_train.index\n",
    "\n",
    "cluster = KMeans(n_clusters=3, random_state=0)\n",
    "pred_clusters = cluster.fit(features_train).labels_\n",
    "\n",
    "colormap = cm.rainbow(np.linspace(0, 1, len(cluster.cluster_centers_)))\n",
    "plt.scatter(target_train.index, target_train, c=colormap[cluster.labels_])\n",
    "plt.title('clusters')\n",
    "plt.ylabel('Sale Price')\n",
    "plt.xlabel('Data Point Index')\n",
    "plt.show()"
   ]
  },
  {
   "cell_type": "code",
   "execution_count": 6,
   "id": "a55ecfb9",
   "metadata": {},
   "outputs": [],
   "source": [
    "# Agglomerative clustering\n",
    "agglom_cluster = AgglomerativeClustering(n_clusters=3)\n",
    "pred_clusters = agglom_cluster.fit(features_train).labels_"
   ]
  }
 ],
 "metadata": {
  "kernelspec": {
   "display_name": "Python 3",
   "language": "python",
   "name": "python3"
  },
  "language_info": {
   "codemirror_mode": {
    "name": "ipython",
    "version": 3
   },
   "file_extension": ".py",
   "mimetype": "text/x-python",
   "name": "python",
   "nbconvert_exporter": "python",
   "pygments_lexer": "ipython3",
   "version": "3.9.2"
  }
 },
 "nbformat": 4,
 "nbformat_minor": 5
}
