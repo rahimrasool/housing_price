{
 "cells": [
  {
   "cell_type": "code",
   "execution_count": 1,
   "metadata": {},
   "outputs": [],
   "source": [
    "import pandas as pd\n",
    "from sklearn.model_selection import train_test_split"
   ]
  },
  {
   "cell_type": "code",
   "execution_count": 2,
   "metadata": {},
   "outputs": [],
   "source": [
    "# Load data\n",
    "housing_data = pd.read_csv('../data/raw_data/ames_housing_data.csv')\n",
    "income_unemp_data = pd.read_csv('../data/raw_data/income_unemp_data.csv')\n",
    "walk_bike_score_data = pd.read_csv('../data/raw_data/walk_bike_score_data.csv')\n",
    "school_quality_data = pd.read_csv('../data/raw_data/school_quality_data.csv')\n",
    "crime_data = pd.read_csv('../data/raw_data/ames_crime.csv')"
   ]
  },
  {
   "cell_type": "code",
   "execution_count": 3,
   "metadata": {},
   "outputs": [],
   "source": [
    "# Merge datasets\n",
    "data = housing_data.merge(income_unemp_data, how='left', on='Neighborhood')\n",
    "data = data.merge(walk_bike_score_data, how='left', on='Neighborhood')\n",
    "data = data.merge(school_quality_data, how='left', on='Neighborhood')\n",
    "data = data.merge(crime_data, how='left', on='Neighborhood')"
   ]
  },
  {
   "cell_type": "code",
   "execution_count": 4,
   "metadata": {},
   "outputs": [],
   "source": [
    "# Drop unecessary variables\n",
    "data.drop(['Id', 'Neighborhood'], axis=1, inplace=True)"
   ]
  },
  {
   "cell_type": "code",
   "execution_count": 6,
   "metadata": {},
   "outputs": [],
   "source": [
    "#Split into training and test data\n",
    "train, test = train_test_split(data, test_size=0.2, random_state=0)"
   ]
  },
  {
   "cell_type": "code",
   "execution_count": 8,
   "metadata": {},
   "outputs": [],
   "source": [
    "# Write cleaned training and testing sets to CSV files\n",
    "train.to_csv('../data/train.csv', index=False)\n",
    "test.to_csv('../data/test.csv', index=False)"
   ]
  },
  {
   "cell_type": "code",
   "execution_count": null,
   "metadata": {},
   "outputs": [],
   "source": []
  }
 ],
 "metadata": {
  "kernelspec": {
   "display_name": "Python 3",
   "language": "python",
   "name": "python3"
  },
  "language_info": {
   "codemirror_mode": {
    "name": "ipython",
    "version": 3
   },
   "file_extension": ".py",
   "mimetype": "text/x-python",
   "name": "python",
   "nbconvert_exporter": "python",
   "pygments_lexer": "ipython3",
   "version": "3.8.5"
  }
 },
 "nbformat": 4,
 "nbformat_minor": 4
}
