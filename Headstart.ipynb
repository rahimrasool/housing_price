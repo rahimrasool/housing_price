{
 "cells": [
  {
   "cell_type": "markdown",
   "metadata": {},
   "source": [
    "## Importing Libraries and Data"
   ]
  },
  {
   "cell_type": "code",
   "execution_count": 6,
   "metadata": {},
   "outputs": [],
   "source": [
    "import pandas as pd\n",
    "import numpy as np\n",
    "\n",
    "pd.set_option('display.max_columns', None)\n",
    "pd.set_option('display.max_rows', None)"
   ]
  },
  {
   "cell_type": "code",
   "execution_count": 100,
   "metadata": {},
   "outputs": [],
   "source": [
    "housing = pd.read_csv(\"train.csv\")\n",
    "school = pd.read_csv(\"ames_school_quality.csv\")\n",
    "income = pd.read_excel(\"income_unemp_data.xlsx\")\n",
    "walking = pd.read_excel(\"walking score.xlsx\")"
   ]
  },
  {
   "cell_type": "markdown",
   "metadata": {},
   "source": [
    "## Pre-processing"
   ]
  },
  {
   "cell_type": "code",
   "execution_count": 101,
   "metadata": {},
   "outputs": [],
   "source": [
    "# concatenation\n",
    "joined_df = housing.merge(school, how =\"left\", left_on='Neighborhood', right_on='neighborhood')\n",
    "joined_df = joined_df.merge(income, how =\"left\", left_on='Neighborhood', right_on='neighborhood')\n",
    "joined_df = joined_df.merge(walking, how =\"left\", left_on='Neighborhood', right_on='neighborhood')"
   ]
  },
  {
   "cell_type": "code",
   "execution_count": 107,
   "metadata": {
    "scrolled": true
   },
   "outputs": [
    {
     "data": {
      "text/plain": [
       "Id                          0\n",
       "MSSubClass                  0\n",
       "MSZoning                    0\n",
       "LotFrontage                 0\n",
       "LotArea                     0\n",
       "Street                      0\n",
       "LotShape                    0\n",
       "LandContour                 0\n",
       "Utilities                   0\n",
       "LotConfig                   0\n",
       "LandSlope                   0\n",
       "Neighborhood                0\n",
       "Condition1                  0\n",
       "Condition2                  0\n",
       "BldgType                    0\n",
       "HouseStyle                  0\n",
       "OverallQual                 0\n",
       "OverallCond                 0\n",
       "YearBuilt                   0\n",
       "YearRemodAdd                0\n",
       "RoofStyle                   0\n",
       "RoofMatl                    0\n",
       "Exterior1st                 0\n",
       "Exterior2nd                 0\n",
       "MasVnrType                  0\n",
       "MasVnrArea                  0\n",
       "ExterQual                   0\n",
       "ExterCond                   0\n",
       "Foundation                  0\n",
       "BsmtQual                    0\n",
       "BsmtCond                    0\n",
       "BsmtExposure                0\n",
       "BsmtFinType1                0\n",
       "BsmtFinSF1                  0\n",
       "BsmtFinType2                0\n",
       "BsmtFinSF2                  0\n",
       "BsmtUnfSF                   0\n",
       "TotalBsmtSF                 0\n",
       "Heating                     0\n",
       "HeatingQC                   0\n",
       "CentralAir                  0\n",
       "Electrical                  0\n",
       "1stFlrSF                    0\n",
       "2ndFlrSF                    0\n",
       "LowQualFinSF                0\n",
       "GrLivArea                   0\n",
       "BsmtFullBath                0\n",
       "BsmtHalfBath                0\n",
       "FullBath                    0\n",
       "HalfBath                    0\n",
       "BedroomAbvGr                0\n",
       "KitchenAbvGr                0\n",
       "KitchenQual                 0\n",
       "TotRmsAbvGrd                0\n",
       "Functional                  0\n",
       "Fireplaces                  0\n",
       "GarageType                  0\n",
       "GarageYrBlt                 0\n",
       "GarageFinish                0\n",
       "GarageCars                  0\n",
       "GarageArea                  0\n",
       "GarageQual                  0\n",
       "GarageCond                  0\n",
       "PavedDrive                  0\n",
       "WoodDeckSF                  0\n",
       "OpenPorchSF                 0\n",
       "EnclosedPorch               0\n",
       "3SsnPorch                   0\n",
       "ScreenPorch                 0\n",
       "PoolArea                    0\n",
       "MiscVal                     0\n",
       "MoSold                      0\n",
       "YrSold                      0\n",
       "SaleType                    0\n",
       "SaleCondition               0\n",
       "SalePrice                   0\n",
       "Elementary School           0\n",
       "Elementary School Rating    0\n",
       "NeighborhoodFull            0\n",
       "med_income                  0\n",
       "unemp_rate                  0\n",
       "Walk Score                  0\n",
       "Bike Score                  0\n",
       "dtype: int64"
      ]
     },
     "execution_count": 107,
     "metadata": {},
     "output_type": "execute_result"
    }
   ],
   "source": [
    "# missing values\n",
    "joined_df.isnull().sum()"
   ]
  },
  {
   "cell_type": "code",
   "execution_count": 103,
   "metadata": {},
   "outputs": [],
   "source": [
    "# removing duplicate columns and columns with high missing values\n",
    "joined_df.drop(columns = ['Alley','FireplaceQu','PoolQC','Fence','MiscFeature',\n",
    "                          'neighborhood_x','neighborhood_y','neighborhood','Unnamed: 1_y']\n",
    "              , inplace = True)"
   ]
  },
  {
   "cell_type": "code",
   "execution_count": 104,
   "metadata": {},
   "outputs": [],
   "source": [
    "joined_df.rename(columns={'Unnamed: 1_x':'NeighborhoodFull'}, inplace=True)"
   ]
  },
  {
   "cell_type": "code",
   "execution_count": 105,
   "metadata": {
    "scrolled": true
   },
   "outputs": [
    {
     "data": {
      "text/plain": [
       "Id                            int64\n",
       "MSSubClass                    int64\n",
       "MSZoning                     object\n",
       "LotFrontage                 float64\n",
       "LotArea                       int64\n",
       "Street                       object\n",
       "LotShape                     object\n",
       "LandContour                  object\n",
       "Utilities                    object\n",
       "LotConfig                    object\n",
       "LandSlope                    object\n",
       "Neighborhood                 object\n",
       "Condition1                   object\n",
       "Condition2                   object\n",
       "BldgType                     object\n",
       "HouseStyle                   object\n",
       "OverallQual                   int64\n",
       "OverallCond                   int64\n",
       "YearBuilt                     int64\n",
       "YearRemodAdd                  int64\n",
       "RoofStyle                    object\n",
       "RoofMatl                     object\n",
       "Exterior1st                  object\n",
       "Exterior2nd                  object\n",
       "MasVnrType                   object\n",
       "MasVnrArea                  float64\n",
       "ExterQual                    object\n",
       "ExterCond                    object\n",
       "Foundation                   object\n",
       "BsmtQual                     object\n",
       "BsmtCond                     object\n",
       "BsmtExposure                 object\n",
       "BsmtFinType1                 object\n",
       "BsmtFinSF1                    int64\n",
       "BsmtFinType2                 object\n",
       "BsmtFinSF2                    int64\n",
       "BsmtUnfSF                     int64\n",
       "TotalBsmtSF                   int64\n",
       "Heating                      object\n",
       "HeatingQC                    object\n",
       "CentralAir                   object\n",
       "Electrical                   object\n",
       "1stFlrSF                      int64\n",
       "2ndFlrSF                      int64\n",
       "LowQualFinSF                  int64\n",
       "GrLivArea                     int64\n",
       "BsmtFullBath                  int64\n",
       "BsmtHalfBath                  int64\n",
       "FullBath                      int64\n",
       "HalfBath                      int64\n",
       "BedroomAbvGr                  int64\n",
       "KitchenAbvGr                  int64\n",
       "KitchenQual                  object\n",
       "TotRmsAbvGrd                  int64\n",
       "Functional                   object\n",
       "Fireplaces                    int64\n",
       "GarageType                   object\n",
       "GarageYrBlt                 float64\n",
       "GarageFinish                 object\n",
       "GarageCars                    int64\n",
       "GarageArea                    int64\n",
       "GarageQual                   object\n",
       "GarageCond                   object\n",
       "PavedDrive                   object\n",
       "WoodDeckSF                    int64\n",
       "OpenPorchSF                   int64\n",
       "EnclosedPorch                 int64\n",
       "3SsnPorch                     int64\n",
       "ScreenPorch                   int64\n",
       "PoolArea                      int64\n",
       "MiscVal                       int64\n",
       "MoSold                        int64\n",
       "YrSold                        int64\n",
       "SaleType                     object\n",
       "SaleCondition                object\n",
       "SalePrice                     int64\n",
       "Elementary School            object\n",
       "Elementary School Rating    float64\n",
       "NeighborhoodFull             object\n",
       "med_income                  float64\n",
       "unemp_rate                  float64\n",
       "Walk Score                  float64\n",
       "Bike Score                  float64\n",
       "dtype: object"
      ]
     },
     "execution_count": 105,
     "metadata": {},
     "output_type": "execute_result"
    }
   ],
   "source": [
    "joined_df.dtypes"
   ]
  },
  {
   "cell_type": "code",
   "execution_count": 106,
   "metadata": {},
   "outputs": [],
   "source": [
    "# Imputing missing values\n",
    "for col in joined_df:\n",
    "    if joined_df[col].dtypes == 'object':\n",
    "        joined_df[col].fillna(joined_df[col].mode()[0], inplace = True)\n",
    "    else:\n",
    "        joined_df[col].fillna(joined_df[col].mean(), inplace = True)"
   ]
  },
  {
   "cell_type": "code",
   "execution_count": null,
   "metadata": {},
   "outputs": [],
   "source": [
    "# Creating dummies\n",
    "joined_df_dummified = pd.get_dummies(joined_df)"
   ]
  },
  {
   "cell_type": "markdown",
   "metadata": {},
   "source": [
    "### ML"
   ]
  },
  {
   "cell_type": "code",
   "execution_count": 122,
   "metadata": {},
   "outputs": [],
   "source": [
    "X = joined_df_dummified.drop(columns = ['SalePrice'])\n",
    "y = joined_df_dummified['SalePrice']"
   ]
  },
  {
   "cell_type": "code",
   "execution_count": 123,
   "metadata": {},
   "outputs": [
    {
     "data": {
      "text/plain": [
       "GridSearchCV(cv=None, error_score=nan,\n",
       "             estimator=RandomForestRegressor(bootstrap=True, ccp_alpha=0.0,\n",
       "                                             criterion='mse', max_depth=None,\n",
       "                                             max_features='auto',\n",
       "                                             max_leaf_nodes=None,\n",
       "                                             max_samples=None,\n",
       "                                             min_impurity_decrease=0.0,\n",
       "                                             min_impurity_split=None,\n",
       "                                             min_samples_leaf=1,\n",
       "                                             min_samples_split=2,\n",
       "                                             min_weight_fraction_leaf=0.0,\n",
       "                                             n_estimators=100, n_jobs=None,\n",
       "                                             oob_score=False, random_state=None,\n",
       "                                             verbose=0, warm_start=False),\n",
       "             iid='deprecated', n_jobs=None, param_grid={'max_depth': [2, 3, 5]},\n",
       "             pre_dispatch='2*n_jobs', refit=True, return_train_score=False,\n",
       "             scoring=None, verbose=0)"
      ]
     },
     "execution_count": 123,
     "metadata": {},
     "output_type": "execute_result"
    }
   ],
   "source": [
    "# GridSearchCV with Random Forest\n",
    "from sklearn.ensemble import RandomForestRegressor\n",
    "from sklearn.model_selection import GridSearchCV\n",
    "\n",
    "regr = RandomForestRegressor()\n",
    "parameters = {'max_depth':[2, 3, 5]}\n",
    "\n",
    "model = GridSearchCV(regr, parameters)\n",
    "model.fit(X, y)"
   ]
  },
  {
   "cell_type": "markdown",
   "metadata": {},
   "source": [
    "### Model Evaluation"
   ]
  },
  {
   "cell_type": "code",
   "execution_count": 125,
   "metadata": {},
   "outputs": [
    {
     "name": "stdout",
     "output_type": "stream",
     "text": [
      "[0.66311867 0.75545358 0.83127683]\n",
      "[0.00659205 0.01479623 0.01635838]\n"
     ]
    }
   ],
   "source": [
    "print(model.cv_results_['mean_test_score'])\n",
    "print(model.cv_results_['std_test_score'])"
   ]
  },
  {
   "cell_type": "code",
   "execution_count": 129,
   "metadata": {},
   "outputs": [
    {
     "data": {
      "text/plain": [
       "RandomForestRegressor(bootstrap=True, ccp_alpha=0.0, criterion='mse',\n",
       "                      max_depth=5, max_features='auto', max_leaf_nodes=None,\n",
       "                      max_samples=None, min_impurity_decrease=0.0,\n",
       "                      min_impurity_split=None, min_samples_leaf=1,\n",
       "                      min_samples_split=2, min_weight_fraction_leaf=0.0,\n",
       "                      n_estimators=100, n_jobs=None, oob_score=False,\n",
       "                      random_state=None, verbose=0, warm_start=False)"
      ]
     },
     "execution_count": 129,
     "metadata": {},
     "output_type": "execute_result"
    }
   ],
   "source": [
    "regr_dep5 = RandomForestRegressor(max_depth = 5)\n",
    "regr_dep5.fit(X, y)"
   ]
  },
  {
   "cell_type": "markdown",
   "metadata": {},
   "source": [
    "### Feature Importance"
   ]
  },
  {
   "cell_type": "code",
   "execution_count": 149,
   "metadata": {},
   "outputs": [
    {
     "data": {
      "image/png": "[encoded data removed]",
      "text/plain": [
       "<Figure size 720x360 with 1 Axes>"
      ]
     },
     "metadata": {
      "needs_background": "light"
     },
     "output_type": "display_data"
    }
   ],
   "source": [
    "import matplotlib.pyplot as plt\n",
    "forest_importances = pd.Series(regr_dep5.feature_importances_, index=X.columns)\n",
    "forest_importances.sort_values(ascending=False, inplace=True)\n",
    "\n",
    "fig, ax = plt.subplots(figsize=(10,5))\n",
    "forest_importances[:10].plot.bar(ax=ax)\n",
    "ax.set_title(\"Feature importances using MDI\")\n",
    "ax.set_ylabel(\"Mean decrease in impurity\")\n",
    "fig.tight_layout()"
   ]
  }
 ],
 "metadata": {
  "kernelspec": {
   "display_name": "Python 3",
   "language": "python",
   "name": "python3"
  },
  "language_info": {
   "codemirror_mode": {
    "name": "ipython",
    "version": 3
   },
   "file_extension": ".py",
   "mimetype": "text/x-python",
   "name": "python",
   "nbconvert_exporter": "python",
   "pygments_lexer": "ipython3",
   "version": "3.7.6"
  }
 },
 "nbformat": 4,
 "nbformat_minor": 4
}
